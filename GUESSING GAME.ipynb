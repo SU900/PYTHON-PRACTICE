{
 "cells": [
  {
   "cell_type": "markdown",
   "id": "f6947a8d",
   "metadata": {},
   "source": [
    "# Guessing Game Challenge\n",
    "\n",
    "Let's use while loops to create a guessing game.\n",
    "\n",
    "The Challenge:\n",
    "\n",
    "Write a program that picks a random integer from 1 to 100, and has players guess the number. The rules are:\n",
    "\n",
    "    If a player's guess is less than 1 or greater than 100, say \"OUT OF BOUNDS\"\n",
    "    On a player's first turn, if their guess is\n",
    "        within 10 of the number, return \"WARM!\"\n",
    "        further than 10 away from the number, return \"COLD!\"\n",
    "    On all subsequent turns, if a guess is\n",
    "        closer to the number than the previous guess return \"WARMER!\"\n",
    "        farther from the number than the previous guess, return \"COLDER!\"\n",
    "    When the player's guess equals the number, tell them they've guessed correctly and how many guesses it took!\n",
    "\n",
    "You can try this from scratch, or follow the steps outlined below. A separate Solution notebook has been provided. Good luck!\n"
   ]
  },
  {
   "cell_type": "code",
   "execution_count": 2,
   "id": "e5f7583a",
   "metadata": {},
   "outputs": [
    {
     "data": {
      "text/plain": [
       "81"
      ]
     },
     "execution_count": 2,
     "metadata": {},
     "output_type": "execute_result"
    }
   ],
   "source": [
    "from random import randint\n",
    "numb = randint(1,101)\n",
    "numb"
   ]
  },
  {
   "cell_type": "code",
   "execution_count": 5,
   "id": "5cc778f9",
   "metadata": {},
   "outputs": [
    {
     "name": "stdout",
     "output_type": "stream",
     "text": [
      "Hi ! Please Enter your guess:0\n",
      "OUT OF BOUNDS , please try again !\n",
      "Hi ! Please Enter your guess:2\n",
      "cold\n",
      "Hi ! Please Enter your guess:78\n",
      "warmer\n",
      "Hi ! Please Enter your guess:75\n",
      "colder\n",
      "Hi ! Please Enter your guess:81\n",
      "Congrats, you guessed it correctly in only 5 guesses!\n"
     ]
    }
   ],
   "source": [
    "#code \n",
    "guesses =[0]     \n",
    "\n",
    "while True:     \n",
    "    \n",
    "    guess = int(input(\"Hi ! Please Enter your guess:\"))  \n",
    "    \n",
    "    if guess == numb:\n",
    "        \n",
    "        print(f'Congrats, you guessed it correctly in only {len(guesses)} guesses!')\n",
    "        break        \n",
    "       \n",
    "    guesses.append(guess)\n",
    "\n",
    "    if guess < 1 or guess > 100:\n",
    "        \n",
    "        print(\"OUT OF BOUNDS , please try again !\")\n",
    "        continue               \n",
    "        \n",
    "\n",
    "    if guesses[-2]:   \n",
    "        \n",
    "        if abs(numb-guess) > abs(numb-guesses[-2]):\n",
    "            print(\"colder\")\n",
    "        else:\n",
    "            print(\"warmer\")\n",
    "        \n",
    "\n",
    "    else: \n",
    "        \n",
    "        if abs(guess-numb) <= 10:\n",
    "            print(\"warm\")\n",
    "        else :\n",
    "            print(\"cold\")"
   ]
  },
  {
   "cell_type": "code",
   "execution_count": 5,
   "id": "dbd94cbe",
   "metadata": {},
   "outputs": [
    {
     "name": "stdout",
     "output_type": "stream",
     "text": [
      "Hi ! Please Enter your guess:0\n",
      "OUT OF BOUNDS , please try again !\n",
      "Hi ! Please Enter your guess:2\n",
      "cold\n",
      "Hi ! Please Enter your guess:78\n",
      "warmer\n",
      "Hi ! Please Enter your guess:75\n",
      "colder\n",
      "Hi ! Please Enter your guess:81\n",
      "Congrats, you guessed it correctly in only 5 guesses!\n"
     ]
    }
   ],
   "source": [
    "#code with comments\n",
    "guesses =[0]     # for storing allthe guesses as there is a need to compare current and previous guess\n",
    "\n",
    "while True:     \n",
    "    \n",
    "    guess = int(input(\"Hi ! Please Enter your guess:\"))   #input is by default a string, so using int to take in the guess as integer\n",
    "    \n",
    "    if guess == numb:\n",
    "        \n",
    "        print(f'Congrats, you guessed it correctly in only {len(guesses)} guesses!')\n",
    "        break     # breaks the game once guess is correct.writing this block at the end,would unnecessarily let program go through all the code even if guess is correct.So, its appropriate to write it in the start and break it\n",
    "    \n",
    "\n",
    "       \n",
    "    guesses.append(guess)# if guess is not correct , add it to our stored list which helps in counting number of guesses.\n",
    "\n",
    "    if guess < 1 or guess > 100:\n",
    "        \n",
    "        print(\"OUT OF BOUNDS , please try again !\")\n",
    "        continue                # if continue is not written here it goes to other loops also , which is not needed\n",
    "        \n",
    "#how to find out the previous guess and see if our current guess is close/far to the number compared to the previous guesses[-2] - using guee\n",
    "\n",
    "    if guesses[-2]:   # from the second guess every other time , one has to say whether number is near or far.\n",
    "        \n",
    "        if abs(numb-guess) > abs(numb-guesses[-2]): # with or without abs , it gives me same result\n",
    "            print(\"colder\")\n",
    "        else:\n",
    "            print(\"warmer\")\n",
    "        \n",
    "\n",
    "    else:                   # this entire block is for frst valid guess only\n",
    "        if abs(guess-numb) <= 10:\n",
    "            print(\"warm\")\n",
    "        else :\n",
    "            print(\"cold\")"
   ]
  }
 ],
 "metadata": {
  "kernelspec": {
   "display_name": "Python 3 (ipykernel)",
   "language": "python",
   "name": "python3"
  },
  "language_info": {
   "codemirror_mode": {
    "name": "ipython",
    "version": 3
   },
   "file_extension": ".py",
   "mimetype": "text/x-python",
   "name": "python",
   "nbconvert_exporter": "python",
   "pygments_lexer": "ipython3",
   "version": "3.9.12"
  }
 },
 "nbformat": 4,
 "nbformat_minor": 5
}
